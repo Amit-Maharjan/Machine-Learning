{
 "cells": [
  {
   "cell_type": "markdown",
   "id": "87363b4b",
   "metadata": {
    "id": "87363b4b"
   },
   "source": [
    "<hr style=\"border:2px solid gray\"> </hr>\n",
    "<center>\n",
    "<img src=\"https://mma.prnewswire.com/media/1095203/East_Tennessee_State_University_Logo.jpg?p=facebook\" width=200 height=200 />\n",
    "</center>\n",
    "    \n",
    "<div class=\"alert alert-block alert-info\">\n",
    "    <h1 style=\"text-align: center\">CSCI 5270 - Machine Learning</h1>\n",
    "</div>\n",
    "\n",
    "# <center>Lab 7 - Classification Using Convolutional Neural Networks</center>\n",
    "\n",
    "**<center>Dr. Ahmad Al-Doulat </center>**\n",
    "<center>Department of Computing </center>\n",
    "<center>East Tennessee State University</center>\n",
    "\n",
    "<hr style=\"border:2px solid lightblue\"> </hr>"
   ]
  },
  {
   "cell_type": "markdown",
   "id": "f647de7f",
   "metadata": {
    "id": "f647de7f"
   },
   "source": [
    "**The objective of this assignment is to familiarize you with building and training Convolutional Neural Networks (CNNs) using TensorFlow/Keras on real-world image datasets. You will implement a CNN model to perform image classification on the CIFAR-10 dataset.**\n",
    "\n",
    "\n",
    "\n",
    "**Guidelines**\n",
    "* Make sure to run all the code cells, otherwise you may get errors like `NameError` for undefined variables.\n",
    "* Do not change variable names, delete cells or disturb other existing code. It may cause problems during evaluation.\n",
    "* In some cases, you may need to add some code cells or new statements before or after the line of code containing the `???`.\n",
    "* Use markdown cells to write your discussions and reflections.\n",
    "\n",
    "**Procedure**\n",
    "* Save your work as `IPYNB` file and submit to D2L `Lab 7 - Classification Using Convolutional Neural Networks (Dropbox)` by the due date.\n",
    "* As you go through this notebook, you will find the symbol `???` in certain places. To complete this assignment, you must replace all the `???` with appropriate values, expressions or statements to ensure that the notebook runs properly end-to-end.\n",
    "* Include your response for `Part 1` and `Part 2` in this notebook."
   ]
  },
  {
   "cell_type": "markdown",
   "id": "021e19a6",
   "metadata": {
    "id": "021e19a6"
   },
   "source": [
    "<div class=\"alert alert-block alert-info\">\n",
    "\n",
    "# Part 1: Activity\n",
    "\n",
    "</div>"
   ]
  },
  {
   "cell_type": "markdown",
   "id": "8edb6e5c-cc38-4010-ae94-0bdb546b1677",
   "metadata": {
    "id": "8edb6e5c-cc38-4010-ae94-0bdb546b1677"
   },
   "source": [
    "In this part you are asked to implement a CNN model to perform image classification on the CIFAR-10 dataset.\n",
    "\n",
    "**Dataset Description:**\n",
    "- `CIFAR-10` is a benchmark dataset consisting of $60,000$ $32x32$ color images in $10$ classes.\n",
    "- Each class contains $6,000$ images.\n",
    "- The dataset is split into $50,000$ training images and $10,000$ test images."
   ]
  },
  {
   "cell_type": "markdown",
   "id": "af6a1547",
   "metadata": {
    "id": "af6a1547"
   },
   "source": [
    "# Question 1: Classification Using CNN\n",
    "<hr style=\"border:1px solid orange\"> </hr>"
   ]
  },
  {
   "cell_type": "markdown",
   "id": "970ee980-3086-4e93-ab94-347fc5c14b05",
   "metadata": {
    "id": "970ee980-3086-4e93-ab94-347fc5c14b05"
   },
   "source": [
    "#### Q 1.1: In the following cell, complete the code to read and preprocess the images by scaling pixel values to the range [0, 1]"
   ]
  },
  {
   "cell_type": "code",
   "execution_count": 1,
   "id": "c3c2f0a1-4188-4a78-a186-1fc108d41bc4",
   "metadata": {
    "colab": {
     "base_uri": "https://localhost:8080/"
    },
    "executionInfo": {
     "elapsed": 25204,
     "status": "ok",
     "timestamp": 1712665707804,
     "user": {
      "displayName": "Amit Maharjan",
      "userId": "18420108166064769575"
     },
     "user_tz": 240
    },
    "id": "c3c2f0a1-4188-4a78-a186-1fc108d41bc4",
    "outputId": "6cec9567-d234-423d-875e-0c8d6eff8d71"
   },
   "outputs": [
    {
     "name": "stdout",
     "output_type": "stream",
     "text": [
      "Downloading data from https://www.cs.toronto.edu/~kriz/cifar-10-python.tar.gz\n",
      "170498071/170498071 [==============================] - 4s 0us/step\n"
     ]
    }
   ],
   "source": [
    "# Step 1: Import necessary libraries\n",
    "import tensorflow as tf\n",
    "from tensorflow.keras import layers, models, datasets\n",
    "\n",
    "# Step 2: Load and preprocess the CIFAR-10 dataset\n",
    "(train_images, train_labels), (test_images, test_labels) = datasets.cifar10.load_data()\n",
    "\n",
    "# Step 3: Scale pixel value to the range [0, 1]\n",
    "train_images = train_images/255\n",
    "test_images = test_images/255"
   ]
  },
  {
   "cell_type": "markdown",
   "id": "dabc1c2c-5da7-4915-a55b-a932bf6295d1",
   "metadata": {
    "id": "dabc1c2c-5da7-4915-a55b-a932bf6295d1"
   },
   "source": [
    "#### Q 1.2: Build a CNN Model:\n",
    "   - Design a CNN architecture using TensorFlow/Keras.\n",
    "   - Experiment with different architectures (e.g., number of layers, filter sizes, pooling layers) to improve performance.\n",
    "   - Compile the model with an appropriate optimizer, loss function, and evaluation metric."
   ]
  },
  {
   "cell_type": "code",
   "execution_count": 2,
   "id": "73ac5a94-bad5-4e74-b9b4-bd5889868551",
   "metadata": {
    "executionInfo": {
     "elapsed": 495,
     "status": "ok",
     "timestamp": 1712665708287,
     "user": {
      "displayName": "Amit Maharjan",
      "userId": "18420108166064769575"
     },
     "user_tz": 240
    },
    "id": "73ac5a94-bad5-4e74-b9b4-bd5889868551"
   },
   "outputs": [],
   "source": [
    "# CNN architecture\n",
    "from keras.models import Sequential\n",
    "from keras.layers import Conv2D, MaxPooling2D, Flatten, Dense, Dropout, BatchNormalization\n",
    "\n",
    "model = Sequential()\n",
    "\n",
    "# Add a convolutional layer with 32 filters, each with a 3x3 kernel\n",
    "model.add(Conv2D(32, (3, 3), activation='relu', input_shape=(32, 32, 3)))\n",
    "\n",
    "# Add a max pooling layer\n",
    "model.add(MaxPooling2D((2, 2)))\n",
    "\n",
    "# Flatten the output from the convolutional layer\n",
    "model.add(Flatten())\n",
    "\n",
    "# Add a fully connected layer with 128 neurons\n",
    "model.add(Dense(128, activation='relu'))\n",
    "\n",
    "# Add an output layer with 10 neurons (one for each digit) and softmax activation\n",
    "model.add(Dense(10, activation='softmax'))"
   ]
  },
  {
   "cell_type": "code",
   "execution_count": 3,
   "id": "Jp0fbwBUEU5_",
   "metadata": {
    "executionInfo": {
     "elapsed": 139,
     "status": "ok",
     "timestamp": 1712665708425,
     "user": {
      "displayName": "Amit Maharjan",
      "userId": "18420108166064769575"
     },
     "user_tz": 240
    },
    "id": "Jp0fbwBUEU5_"
   },
   "outputs": [],
   "source": [
    "# Compile the model\n",
    "model.compile(optimizer='adam', loss='sparse_categorical_crossentropy', metrics=['accuracy'])"
   ]
  },
  {
   "cell_type": "code",
   "execution_count": 4,
   "id": "Fxecos7eExbe",
   "metadata": {
    "colab": {
     "base_uri": "https://localhost:8080/"
    },
    "executionInfo": {
     "elapsed": 209888,
     "status": "ok",
     "timestamp": 1712665918312,
     "user": {
      "displayName": "Amit Maharjan",
      "userId": "18420108166064769575"
     },
     "user_tz": 240
    },
    "id": "Fxecos7eExbe",
    "outputId": "54c1e24b-87f2-467d-8463-c5fabfde8bf3"
   },
   "outputs": [
    {
     "name": "stdout",
     "output_type": "stream",
     "text": [
      "Epoch 1/5\n",
      "782/782 [==============================] - 41s 49ms/step - loss: 1.5031 - accuracy: 0.4660 - val_loss: 1.2925 - val_accuracy: 0.5398\n",
      "Epoch 2/5\n",
      "782/782 [==============================] - 37s 48ms/step - loss: 1.1905 - accuracy: 0.5828 - val_loss: 1.2454 - val_accuracy: 0.5649\n",
      "Epoch 3/5\n",
      "782/782 [==============================] - 39s 50ms/step - loss: 1.0671 - accuracy: 0.6277 - val_loss: 1.1085 - val_accuracy: 0.6174\n",
      "Epoch 4/5\n",
      "782/782 [==============================] - 37s 48ms/step - loss: 0.9771 - accuracy: 0.6600 - val_loss: 1.0733 - val_accuracy: 0.6236\n",
      "Epoch 5/5\n",
      "782/782 [==============================] - 37s 47ms/step - loss: 0.9075 - accuracy: 0.6855 - val_loss: 1.0210 - val_accuracy: 0.6470\n"
     ]
    },
    {
     "data": {
      "text/plain": [
       "<keras.src.callbacks.History at 0x7d20606dba90>"
      ]
     },
     "execution_count": 4,
     "metadata": {},
     "output_type": "execute_result"
    }
   ],
   "source": [
    "# Train the model\n",
    "model.fit(train_images, train_labels, epochs=5, batch_size=64, validation_data=(test_images, test_labels))"
   ]
  },
  {
   "cell_type": "code",
   "execution_count": 5,
   "id": "m5EesokQFC7V",
   "metadata": {
    "colab": {
     "base_uri": "https://localhost:8080/"
    },
    "executionInfo": {
     "elapsed": 7,
     "status": "ok",
     "timestamp": 1712665918312,
     "user": {
      "displayName": "Amit Maharjan",
      "userId": "18420108166064769575"
     },
     "user_tz": 240
    },
    "id": "m5EesokQFC7V",
    "outputId": "228fc75d-a388-431a-ae70-450015bb93e3"
   },
   "outputs": [
    {
     "name": "stdout",
     "output_type": "stream",
     "text": [
      "Model: \"sequential\"\n",
      "_________________________________________________________________\n",
      " Layer (type)                Output Shape              Param #   \n",
      "=================================================================\n",
      " conv2d (Conv2D)             (None, 30, 30, 32)        896       \n",
      "                                                                 \n",
      " max_pooling2d (MaxPooling2  (None, 15, 15, 32)        0         \n",
      " D)                                                              \n",
      "                                                                 \n",
      " flatten (Flatten)           (None, 7200)              0         \n",
      "                                                                 \n",
      " dense (Dense)               (None, 128)               921728    \n",
      "                                                                 \n",
      " dense_1 (Dense)             (None, 10)                1290      \n",
      "                                                                 \n",
      "=================================================================\n",
      "Total params: 923914 (3.52 MB)\n",
      "Trainable params: 923914 (3.52 MB)\n",
      "Non-trainable params: 0 (0.00 Byte)\n",
      "_________________________________________________________________\n"
     ]
    }
   ],
   "source": [
    "model.summary()"
   ]
  },
  {
   "cell_type": "code",
   "execution_count": 6,
   "id": "bEejK1WBhrA7",
   "metadata": {
    "colab": {
     "base_uri": "https://localhost:8080/",
     "height": 564
    },
    "executionInfo": {
     "elapsed": 325,
     "status": "ok",
     "timestamp": 1712665918634,
     "user": {
      "displayName": "Amit Maharjan",
      "userId": "18420108166064769575"
     },
     "user_tz": 240
    },
    "id": "bEejK1WBhrA7",
    "outputId": "5b29cb86-e8b9-455f-d6b7-0d8af92dbd15"
   },
   "outputs": [
    {
     "data": {
      "image/png": "[encoded data removed]",
      "text/plain": [
       "<IPython.core.display.Image object>"
      ]
     },
     "execution_count": 6,
     "metadata": {},
     "output_type": "execute_result"
    }
   ],
   "source": [
    "from keras.utils import to_categorical, plot_model\n",
    "plot_model(model)"
   ]
  },
  {
   "cell_type": "markdown",
   "id": "SDoyvVysk9S8",
   "metadata": {
    "id": "SDoyvVysk9S8"
   },
   "source": [
    "**Experimenting with a different model architecture**"
   ]
  },
  {
   "cell_type": "code",
   "execution_count": 7,
   "id": "NQ_9VPQRlDZb",
   "metadata": {
    "executionInfo": {
     "elapsed": 160,
     "status": "ok",
     "timestamp": 1712665918792,
     "user": {
      "displayName": "Amit Maharjan",
      "userId": "18420108166064769575"
     },
     "user_tz": 240
    },
    "id": "NQ_9VPQRlDZb"
   },
   "outputs": [],
   "source": [
    "model_new = Sequential([\n",
    "    Conv2D(32, (3, 3), activation='relu', input_shape=(32, 32, 3)),\n",
    "    MaxPooling2D((2, 2)),\n",
    "    Conv2D(64, (3, 3), activation='relu'),\n",
    "    MaxPooling2D((2, 2)),\n",
    "    Conv2D(64, (3, 3), activation='relu'),\n",
    "    Flatten(),\n",
    "    Dense(64, activation='relu'),\n",
    "    Dense(10, activation='softmax')\n",
    "])"
   ]
  },
  {
   "cell_type": "code",
   "execution_count": 8,
   "id": "dqNPTnmylDtr",
   "metadata": {
    "executionInfo": {
     "elapsed": 3,
     "status": "ok",
     "timestamp": 1712665918793,
     "user": {
      "displayName": "Amit Maharjan",
      "userId": "18420108166064769575"
     },
     "user_tz": 240
    },
    "id": "dqNPTnmylDtr"
   },
   "outputs": [],
   "source": [
    "model_new.compile(optimizer='adam', loss='sparse_categorical_crossentropy', metrics=['accuracy'])"
   ]
  },
  {
   "cell_type": "code",
   "execution_count": 9,
   "id": "NMLOZQZ1lDzF",
   "metadata": {
    "colab": {
     "base_uri": "https://localhost:8080/"
    },
    "executionInfo": {
     "elapsed": 332969,
     "status": "ok",
     "timestamp": 1712666251759,
     "user": {
      "displayName": "Amit Maharjan",
      "userId": "18420108166064769575"
     },
     "user_tz": 240
    },
    "id": "NMLOZQZ1lDzF",
    "outputId": "3befd9e0-2d94-4c1e-d4de-19f6738bb92e"
   },
   "outputs": [
    {
     "name": "stdout",
     "output_type": "stream",
     "text": [
      "Epoch 1/5\n",
      "1563/1563 [==============================] - 70s 44ms/step - loss: 1.5110 - accuracy: 0.4493 - val_loss: 1.2537 - val_accuracy: 0.5506\n",
      "Epoch 2/5\n",
      "1563/1563 [==============================] - 65s 41ms/step - loss: 1.1565 - accuracy: 0.5908 - val_loss: 1.0689 - val_accuracy: 0.6163\n",
      "Epoch 3/5\n",
      "1563/1563 [==============================] - 64s 41ms/step - loss: 1.0116 - accuracy: 0.6427 - val_loss: 0.9712 - val_accuracy: 0.6575\n",
      "Epoch 4/5\n",
      "1563/1563 [==============================] - 67s 43ms/step - loss: 0.9136 - accuracy: 0.6805 - val_loss: 1.0169 - val_accuracy: 0.6488\n",
      "Epoch 5/5\n",
      "1563/1563 [==============================] - 64s 41ms/step - loss: 0.8409 - accuracy: 0.7058 - val_loss: 0.9470 - val_accuracy: 0.6784\n"
     ]
    },
    {
     "data": {
      "text/plain": [
       "<keras.src.callbacks.History at 0x7d2060eea770>"
      ]
     },
     "execution_count": 9,
     "metadata": {},
     "output_type": "execute_result"
    }
   ],
   "source": [
    "model_new.fit(train_images, train_labels, epochs=5, validation_data=(test_images, test_labels))"
   ]
  },
  {
   "cell_type": "code",
   "execution_count": 10,
   "id": "Z-tTxI-4lD3j",
   "metadata": {
    "colab": {
     "base_uri": "https://localhost:8080/"
    },
    "executionInfo": {
     "elapsed": 7,
     "status": "ok",
     "timestamp": 1712666251759,
     "user": {
      "displayName": "Amit Maharjan",
      "userId": "18420108166064769575"
     },
     "user_tz": 240
    },
    "id": "Z-tTxI-4lD3j",
    "outputId": "bd339912-8592-47a4-d9bd-1852aa47904a"
   },
   "outputs": [
    {
     "name": "stdout",
     "output_type": "stream",
     "text": [
      "Model: \"sequential_1\"\n",
      "_________________________________________________________________\n",
      " Layer (type)                Output Shape              Param #   \n",
      "=================================================================\n",
      " conv2d_1 (Conv2D)           (None, 30, 30, 32)        896       \n",
      "                                                                 \n",
      " max_pooling2d_1 (MaxPoolin  (None, 15, 15, 32)        0         \n",
      " g2D)                                                            \n",
      "                                                                 \n",
      " conv2d_2 (Conv2D)           (None, 13, 13, 64)        18496     \n",
      "                                                                 \n",
      " max_pooling2d_2 (MaxPoolin  (None, 6, 6, 64)          0         \n",
      " g2D)                                                            \n",
      "                                                                 \n",
      " conv2d_3 (Conv2D)           (None, 4, 4, 64)          36928     \n",
      "                                                                 \n",
      " flatten_1 (Flatten)         (None, 1024)              0         \n",
      "                                                                 \n",
      " dense_2 (Dense)             (None, 64)                65600     \n",
      "                                                                 \n",
      " dense_3 (Dense)             (None, 10)                650       \n",
      "                                                                 \n",
      "=================================================================\n",
      "Total params: 122570 (478.79 KB)\n",
      "Trainable params: 122570 (478.79 KB)\n",
      "Non-trainable params: 0 (0.00 Byte)\n",
      "_________________________________________________________________\n"
     ]
    }
   ],
   "source": [
    "model_new.summary()"
   ]
  },
  {
   "cell_type": "code",
   "execution_count": 11,
   "id": "B5vO0yCnlc3F",
   "metadata": {
    "colab": {
     "base_uri": "https://localhost:8080/",
     "height": 856
    },
    "executionInfo": {
     "elapsed": 182,
     "status": "ok",
     "timestamp": 1712666251938,
     "user": {
      "displayName": "Amit Maharjan",
      "userId": "18420108166064769575"
     },
     "user_tz": 240
    },
    "id": "B5vO0yCnlc3F",
    "outputId": "a9df50ce-c6c4-422a-ed36-acd43d6054e8"
   },
   "outputs": [
    {
     "data": {
      "image/png": "[encoded data removed]",
      "text/plain": [
       "<IPython.core.display.Image object>"
      ]
     },
     "execution_count": 11,
     "metadata": {},
     "output_type": "execute_result"
    }
   ],
   "source": [
    "plot_model(model_new)"
   ]
  },
  {
   "cell_type": "markdown",
   "id": "f2f45aed-e9fe-49ae-a85f-78c97e2e98f4",
   "metadata": {
    "id": "f2f45aed-e9fe-49ae-a85f-78c97e2e98f4"
   },
   "source": [
    "#### Q 1.3: Train the Model:\n",
    "   - Train the CNN model on the training data for a specified number of epochs.\n",
    "   - Monitor the training process and evaluate the model's performance on the validation set."
   ]
  },
  {
   "cell_type": "code",
   "execution_count": 12,
   "id": "6190194e-0522-4c31-a8d8-6245ca41455c",
   "metadata": {
    "colab": {
     "base_uri": "https://localhost:8080/"
    },
    "executionInfo": {
     "elapsed": 684475,
     "status": "ok",
     "timestamp": 1712666936402,
     "user": {
      "displayName": "Amit Maharjan",
      "userId": "18420108166064769575"
     },
     "user_tz": 240
    },
    "id": "6190194e-0522-4c31-a8d8-6245ca41455c",
    "outputId": "c02cbd08-5782-47ab-e771-d1caf38f10a3"
   },
   "outputs": [
    {
     "name": "stdout",
     "output_type": "stream",
     "text": [
      "Epoch 1/10\n",
      "1563/1563 [==============================] - 67s 43ms/step - loss: 0.7910 - accuracy: 0.7235 - val_loss: 0.8945 - val_accuracy: 0.6852\n",
      "Epoch 2/10\n",
      "1563/1563 [==============================] - 64s 41ms/step - loss: 0.7432 - accuracy: 0.7406 - val_loss: 0.8768 - val_accuracy: 0.6975\n",
      "Epoch 3/10\n",
      "1563/1563 [==============================] - 64s 41ms/step - loss: 0.7018 - accuracy: 0.7548 - val_loss: 0.8960 - val_accuracy: 0.7006\n",
      "Epoch 4/10\n",
      "1563/1563 [==============================] - 64s 41ms/step - loss: 0.6615 - accuracy: 0.7685 - val_loss: 0.9109 - val_accuracy: 0.6980\n",
      "Epoch 5/10\n",
      "1563/1563 [==============================] - 64s 41ms/step - loss: 0.6286 - accuracy: 0.7801 - val_loss: 0.8922 - val_accuracy: 0.6999\n",
      "Epoch 6/10\n",
      "1563/1563 [==============================] - 66s 42ms/step - loss: 0.5932 - accuracy: 0.7897 - val_loss: 0.8668 - val_accuracy: 0.7189\n",
      "Epoch 7/10\n",
      "1563/1563 [==============================] - 65s 41ms/step - loss: 0.5623 - accuracy: 0.8032 - val_loss: 0.9165 - val_accuracy: 0.7046\n",
      "Epoch 8/10\n",
      "1563/1563 [==============================] - 66s 42ms/step - loss: 0.5330 - accuracy: 0.8117 - val_loss: 0.8841 - val_accuracy: 0.7160\n",
      "Epoch 9/10\n",
      "1563/1563 [==============================] - 70s 45ms/step - loss: 0.5017 - accuracy: 0.8226 - val_loss: 0.8976 - val_accuracy: 0.7177\n",
      "Epoch 10/10\n",
      "1563/1563 [==============================] - 67s 43ms/step - loss: 0.4769 - accuracy: 0.8315 - val_loss: 0.9347 - val_accuracy: 0.7091\n"
     ]
    }
   ],
   "source": [
    "# Train the model\n",
    "history = model_new.fit(train_images, train_labels, epochs=10, validation_data=(test_images, test_labels))"
   ]
  },
  {
   "cell_type": "markdown",
   "id": "f3aa1566-ebaa-4e57-941b-51b71a4b79e4",
   "metadata": {
    "id": "f3aa1566-ebaa-4e57-941b-51b71a4b79e4"
   },
   "source": [
    "#### Q 1.4: Evaluate the Model:\n",
    "   - Evaluate the trained model on the test data to assess its performance.\n",
    "   - Compute and report the classification accuracy of the model on the test set.\n",
    "   - Discuss the model performance"
   ]
  },
  {
   "cell_type": "code",
   "execution_count": 13,
   "id": "2h48q3YSqgRV",
   "metadata": {
    "colab": {
     "base_uri": "https://localhost:8080/"
    },
    "executionInfo": {
     "elapsed": 5579,
     "status": "ok",
     "timestamp": 1712666941978,
     "user": {
      "displayName": "Amit Maharjan",
      "userId": "18420108166064769575"
     },
     "user_tz": 240
    },
    "id": "2h48q3YSqgRV",
    "outputId": "84c54aa1-c265-4e03-fe6a-82066c52811c"
   },
   "outputs": [
    {
     "name": "stdout",
     "output_type": "stream",
     "text": [
      "313/313 [==============================] - 4s 12ms/step - loss: 0.9347 - accuracy: 0.7091\n",
      "Test Accuracy: 0.7091000080108643\n"
     ]
    }
   ],
   "source": [
    "# Evaluate the model\n",
    "loss, accuracy = model_new.evaluate(test_images, test_labels)\n",
    "print('Test Accuracy:', accuracy)"
   ]
  },
  {
   "cell_type": "code",
   "execution_count": 14,
   "id": "eb914fc1-a16a-453a-82dd-50baedba2d36",
   "metadata": {
    "colab": {
     "base_uri": "https://localhost:8080/"
    },
    "executionInfo": {
     "elapsed": 128,
     "status": "ok",
     "timestamp": 1712666942104,
     "user": {
      "displayName": "Amit Maharjan",
      "userId": "18420108166064769575"
     },
     "user_tz": 240
    },
    "id": "eb914fc1-a16a-453a-82dd-50baedba2d36",
    "outputId": "6de6ccfb-a9dc-42f8-9686-b282393006b6"
   },
   "outputs": [
    {
     "name": "stdout",
     "output_type": "stream",
     "text": [
      "1/1 [==============================] - 0s 139ms/step\n",
      "Predictions: [3 1 8 0 4 6 1 6 3 1 8 9 5 7 9 8 5 3 8 6 7 0 0 9 4 6 4 0 9 6]\n",
      "True Labels: [0 0 0 0 0 0 0 0 0 0 0 0 0 0 0 0 0 0 0 0 0 0 0 0 0 0 0 0 0 0]\n"
     ]
    }
   ],
   "source": [
    "import numpy as np\n",
    "predictions = model.predict(test_images[:30])\n",
    "print('Predictions:', np.argmax(predictions, axis=1))\n",
    "print('True Labels:', np.argmax(test_labels[:30], axis=1))"
   ]
  },
  {
   "cell_type": "code",
   "execution_count": 15,
   "id": "918389eb-f207-45ce-aa26-c46056753ea8",
   "metadata": {
    "colab": {
     "base_uri": "https://localhost:8080/",
     "height": 455
    },
    "executionInfo": {
     "elapsed": 520,
     "status": "ok",
     "timestamp": 1712666942623,
     "user": {
      "displayName": "Amit Maharjan",
      "userId": "18420108166064769575"
     },
     "user_tz": 240
    },
    "id": "918389eb-f207-45ce-aa26-c46056753ea8",
    "outputId": "c494dba9-6b83-4551-ae5e-6ce22b6ea87d"
   },
   "outputs": [
    {
     "data": {
      "image/png": "[encoded data removed]",
      "text/plain": [
       "<Figure size 640x480 with 1 Axes>"
      ]
     },
     "metadata": {},
     "output_type": "display_data"
    }
   ],
   "source": [
    "# Plot training history (optional)\n",
    "import matplotlib.pyplot as plt\n",
    "plt.plot(history.history['accuracy'], label='accuracy')\n",
    "plt.plot(history.history['val_accuracy'], label = 'val_accuracy')\n",
    "plt.xlabel('Epoch')\n",
    "plt.ylabel('Accuracy')\n",
    "plt.ylim([0.5, 1])\n",
    "plt.legend(loc='lower right')\n",
    "plt.show()"
   ]
  },
  {
   "cell_type": "markdown",
   "id": "FUohLvbIrUEU",
   "metadata": {
    "id": "FUohLvbIrUEU"
   },
   "source": [
    "**Answer:** The first model, which has a simpler structure (one convolutional layer, one max pooling layer, a flatten, and two fully connected layers), achieved an accuracy of 64.7% after 5 epochs. It shows a gradual improvement after each epoch, indicating that the model was learning from the training data. On the other hand, the second model, which had more layers (three convolutional layers, two max-pooling layers, a flatten, and two fully connected layers), achieved an accuracy of 67.84% after 5 epochs. Although it took a longer time to train the model, it shows a slight boost in accuracy compared to the first model.\n",
    "\n",
    "Similarly, when fitting the data to the same second model for 10 epochs, we achieved an accuracy of 70.91%. This indicates that approximately 71 out of 100 images in the test set were correctly classified by the model."
   ]
  },
  {
   "cell_type": "markdown",
   "id": "5dff005b",
   "metadata": {
    "id": "5dff005b"
   },
   "source": [
    "<div class=\"alert alert-block alert-info\">\n",
    "\n",
    "# Part 2: Reflection\n",
    "\n",
    "</div>"
   ]
  },
  {
   "cell_type": "markdown",
   "id": "399baf6f",
   "metadata": {
    "id": "399baf6f"
   },
   "source": [
    "As a second step—after answering the questions, include the following:\n",
    "1. A reflection of your experience performing the activity.\n",
    "2. A reflection on the importance of learning this activity.\n",
    "\n",
    "**Note:** include your reflection in this notebook as markdown cells."
   ]
  },
  {
   "cell_type": "markdown",
   "id": "ymNENQ_arZV1",
   "metadata": {
    "id": "ymNENQ_arZV1"
   },
   "source": [
    "**Answer:**\n",
    "\n",
    "1. I find this activity easier compared to the other activities we have performed during this course. This might be due to the fact that we have already covered many concepts involved in this particular activity of CNN - Convolutional Neural Networks, such as loading the online training and testing data, scaling, neural networks, activation function, classification, accuracy metric, etc. I believe I have learned a lot throughout this course, which is making me understand ML concepts and implement them more easily.\n",
    "\n",
    "2. This activity on the concept of CNN - Convolutional Neural Networks is extremely important. CNNs are particularly used in computer vision for image recognition tasks due to their ability to automatically learn hierarchical features from raw pixel data. They require fewer input nodes, tolerate small shifts in pixel positions within images, and take advantage of the correlations observed in complex images. Their convolutional layers enable effective feature extraction, making them widely used in applications such as object detection, facial recognition, and medical image analysis."
   ]
  },
  {
   "cell_type": "markdown",
   "id": "844c3dbe",
   "metadata": {
    "id": "844c3dbe"
   },
   "source": [
    "<div class=\"alert alert-block alert-info\">\n",
    "\n",
    "# Submission\n",
    "    \n",
    "</div>"
   ]
  },
  {
   "cell_type": "markdown",
   "id": "fbd22e1a",
   "metadata": {
    "id": "fbd22e1a"
   },
   "source": [
    "Submit **Lab7.ipynb** to the **Lab 7 - Classification Using Convolutional Neural Networks (Dropbox)** on D2L by the due date."
   ]
  },
  {
   "cell_type": "markdown",
   "id": "f053c344",
   "metadata": {
    "id": "f053c344"
   },
   "source": [
    "<div class=\"alert alert-block alert-info\">\n",
    "\n",
    "# Grading Rubric\n",
    "    \n",
    "</div>"
   ]
  },
  {
   "cell_type": "markdown",
   "id": "71c85704",
   "metadata": {
    "id": "71c85704"
   },
   "source": [
    "| Criterion                                 | Excellent                                               | Good                                                  | Average                                                | Below Average                                          | Poor                                                  | No Attempt                                            |\n",
    "| ----------------------------------------- | ------------------------------------------------------- | ------------------------------------------------------ | ------------------------------------------------------ | ------------------------------------------------------- | ------------------------------------------------------ | ------------------------------------------------------ |\n",
    "| **Part 1:** Activity-Question 1.1          | **10 points**- Completes all aspects of the question correctly | **8 points**- Completes most aspects of the question correctly | **6 points**- Completes aspects of the question correctly, and some incorrectly | **4 points**- Completes most aspects of the question incorrectly or does not attempt many aspects | **2 points**- Minimal effort or completes a few aspects of the question or very few correctly | **0 points**- Did not complete the question              |\n",
    "| **Part 1:** Activity-Question 1.2          | **10 points**- Completes all aspects of the question correctly | **8 points**- Completes most aspects of the question correctly | **6 points**- Completes aspects of the question correctly, and some incorrectly | **4 points**- Completes most aspects of the question incorrectly or does not attempt many aspects | **2 points**- Minimal effort or completes a few aspects of the question or very few correctly | **0 points**- Did not complete the question              |\n",
    "| **Part 1:** Activity-Question 1.3          | **10 points**- Completes all aspects of the question correctly | **8 points**- Completes most aspects of the question correctly | **6 points**- Completes aspects of the question correctly, and some incorrectly | **4 points**- Completes most aspects of the question incorrectly or does not attempt many aspects | **2 points**- Minimal effort or completes a few aspects of the question or very few correctly | **0 points**- Did not complete the question              |\n",
    "| **Part 1:** Activity-Question 1.4          | **10 points**- Completes all aspects of the question correctly | **8 points**- Completes most aspects of the question correctly | **6 points**- Completes aspects of the question correctly, and some incorrectly | **4 points**- Completes most aspects of the question incorrectly or does not attempt many aspects | **2 points**- Minimal effort or completes a few aspects of the question or very few correctly | **0 points**- Did not complete the question              |\n",
    "| **Part 2:** Reflection                    | **10 points**- Reflection clearly ties to the module content; experience and importance clearly laid out | **8 points**- Reflection mostly ties to the module content; experience & importance are discussed | **6 points**- Reflection ties minimally to the module content; experience & importance are discussed but not thoroughly | **4 points**- Reflection does not tie to the module content; experience & importance are minimally discussed | **2 points**- Minimal effort to tie to content; minimal effort to describe experience/ importance | **0 points**- Did not complete the reflection             |\n"
   ]
  }
 ],
 "metadata": {
  "colab": {
   "provenance": []
  },
  "kernelspec": {
   "display_name": "Python 3 (ipykernel)",
   "language": "python",
   "name": "python3"
  },
  "language_info": {
   "codemirror_mode": {
    "name": "ipython",
    "version": 3
   },
   "file_extension": ".py",
   "mimetype": "text/x-python",
   "name": "python",
   "nbconvert_exporter": "python",
   "pygments_lexer": "ipython3",
   "version": "3.12.1"
  },
  "toc": {
   "base_numbering": 1,
   "nav_menu": {},
   "number_sections": false,
   "sideBar": true,
   "skip_h1_title": true,
   "title_cell": "Table of Contents",
   "title_sidebar": "Contents",
   "toc_cell": false,
   "toc_position": {
    "height": "calc(100% - 180px)",
    "left": "10px",
    "top": "150px",
    "width": "214.052px"
   },
   "toc_section_display": true,
   "toc_window_display": false
  }
 },
 "nbformat": 4,
 "nbformat_minor": 5
}
