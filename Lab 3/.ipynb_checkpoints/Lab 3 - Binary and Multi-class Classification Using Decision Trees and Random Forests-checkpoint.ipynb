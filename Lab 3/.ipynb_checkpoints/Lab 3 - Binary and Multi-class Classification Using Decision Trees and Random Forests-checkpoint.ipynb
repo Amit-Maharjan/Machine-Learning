{
 "cells": [
  {
   "cell_type": "markdown",
   "id": "aed2206b",
   "metadata": {},
   "source": [
    "<hr style=\"border:2px solid gray\"> </hr>\n",
    "<img src=\"https://mma.prnewswire.com/media/1095203/East_Tennessee_State_University_Logo.jpg?p=facebook\" width=200 height=200 />\n",
    "\n",
    "<div class=\"alert alert-block alert-info\">\n",
    "    <h1 style=\"text-align: center\">CSCI 5270 - Machine Learning</h1>\n",
    "</div>\n",
    "\n",
    "# <center>Lab 3 - Binary and Multi-class Classification Using Decision Trees and Random Forests </center>\n",
    "\n",
    "**<center>Dr. Ahmad Al-Doulat </center>**\n",
    "<center>Department of Computing </center>\n",
    "<center>East Tennessee State University</center>\n",
    "\n",
    "<hr style=\"border:2px solid lightblue\"> </hr>"
   ]
  },
  {
   "cell_type": "markdown",
   "id": "7022f67a",
   "metadata": {},
   "source": [
    "**In this assignment, you'll get to practice the concepts and skills covered in the course so far. The main objective of this assignment is to implement, test and evaluate a decision tree model and a random forest model for classification tasks.**\n",
    "\n",
    "\n",
    "\n",
    "**Guidelines**\n",
    "* Download `weatherAUS.csv` and `penguins.csv` files from D2L. \n",
    "* Make sure to run all the code cells, otherwise you may get errors like `NameError` for undefined variables.\n",
    "* Do not change variable names, delete cells or disturb other existing code. It may cause problems during evaluation.\n",
    "* In some cases, you may need to add some code cells or new statements before or after the line of code containing the `???`.\n",
    "* Use markdown cells to write your discussions and reflections. \n",
    "\n",
    "**Procedure**\n",
    "* Save your work as `IPYNB` file and submit to D2L `Lab 3 - Binary and Multi-class Classification Using Decision Trees and Random Forests (Dropbox)` by the due date.\n",
    "* As you go through this notebook, you will find the symbol `???` in certain places. To complete this assignment, you must replace all the `???` with appropriate values, expressions or statements to ensure that the notebook runs properly end-to-end.\n",
    "* Include your response for `Part 1` and `Part 2` in this notebook. "
   ]
  },
  {
   "cell_type": "markdown",
   "id": "6d969648",
   "metadata": {},
   "source": [
    "<div class=\"alert alert-block alert-info\">\n",
    "\n",
    "# Part 1: Activity \n",
    "\n",
    "</div>"
   ]
  },
  {
   "cell_type": "markdown",
   "id": "4f08a299",
   "metadata": {},
   "source": [
    "# Question 1: Binary Classification Using Decision Trees and Random Forests\n",
    "<hr style=\"border:1px solid orange\"> </hr>"
   ]
  },
  {
   "cell_type": "markdown",
   "id": "4799a126",
   "metadata": {},
   "source": [
    "#### Read the content of the `weatherAUS.csv` file into a dataset and perform the following: (Note: You should use your previous work from lab 2 to preprocess and visualize the dataset before building the models)\n",
    "\n",
    "> **Q1.1.** Build a classification model using Decision Trees to predict the target variable `RainTomorrow` from the dataset.\n",
    "\n",
    "> **Q1.2.** Evaluate and discuss the model performance.\n",
    "\n",
    "> **Q1.3.** Use the Cost Complexity Pruning method to prune the decision tree to avoid overfitting. \n",
    "\n",
    "> **Q1.4.** Evaluate and discuss the model performance after the pruning.\n",
    "\n",
    "> **Q1.5.** Build a classification model using Random Forests to predict the target variable `RainTomorrow` from the dataset.\n",
    "\n",
    "> **Q1.6.** Evaluate and discuss the model performance in contrast to the previous models (before and after the pruning).\n",
    "\n",
    "> **Q1.7.** Compare the performance of your logistic regression model from Lab 2 to the performance of decision tree and random forest from this lab. \n",
    "\n",
    "> **Q1.8.** Which model would you choose for this classification problem (logistic regression, decision tree, or random forest) and why?"
   ]
  },
  {
   "cell_type": "markdown",
   "id": "6e93d57b",
   "metadata": {},
   "source": [
    "# Question 2: Multi-Class Classification Using Decision Trees and Random Forests\n",
    "<hr style=\"border:1px solid orange\"> </hr>"
   ]
  },
  {
   "cell_type": "markdown",
   "id": "30c3cb7b",
   "metadata": {},
   "source": [
    "#### Read the content of the `penguins.csv` file and perform the following: (Note: You should use your previous work from lab 2 to preprocess and visualize the dataset before building the models)\n",
    "\n",
    "> **Q2.1.** Build a classification model using Decision Trees to predict the target variable `species` from the dataset.\n",
    "\n",
    "> **Q2.2.** Evaluate and discuss the model performance.\n",
    "\n",
    "> **Q2.3.** Use the Cost Complexity Pruning method to prune the decision tree to avoid overfitting. \n",
    "\n",
    "> **Q2.4.** Evaluate and discuss the model performance after the pruning.\n",
    "\n",
    "> **Q2.5.** Build a classification model using Random Forests to predict the target variable `species` from the dataset.\n",
    "\n",
    "> **Q2.6.** Evaluate and discuss the model performance in contrast to the previous models (before and after the pruning).\n",
    "\n",
    "> **Q2.7.** Compare the performance of your logistic regression model from Lab 2 to the performance of decision tree and random forest from this lab. \n",
    "\n",
    "> **Q2.8.** Which model would you choose for this classification problem (logistic regression, decision tree, or random forest) and why?"
   ]
  },
  {
   "cell_type": "markdown",
   "id": "e53e7b8a",
   "metadata": {},
   "source": [
    "<div class=\"alert alert-block alert-info\">\n",
    "\n",
    "# Part 2: Reflection\n",
    "    \n",
    "</div>"
   ]
  },
  {
   "cell_type": "markdown",
   "id": "c93ce1ba",
   "metadata": {},
   "source": [
    "As a second step—after answering the questions, include the following:\n",
    "1. A reflection of your experience performing the activity. \n",
    "2. A reflection on the importance of learning this activity.\n",
    "**Note:** include your reflection in this notebook as markdown cells. "
   ]
  },
  {
   "cell_type": "markdown",
   "id": "ee4e90ba",
   "metadata": {},
   "source": [
    "???"
   ]
  },
  {
   "cell_type": "markdown",
   "id": "b30fd6c3",
   "metadata": {},
   "source": [
    "<div class=\"alert alert-block alert-info\">\n",
    "\n",
    "# Submission\n",
    "    \n",
    "</div>"
   ]
  },
  {
   "cell_type": "markdown",
   "id": "3ddf066a",
   "metadata": {},
   "source": [
    "Submit **Lab3.ipynb** to the **Lab 3 - Binary and Multi-class Classification Using Decision Trees and Random Forests (Dropbox)** on D2L by the due date. "
   ]
  },
  {
   "cell_type": "markdown",
   "id": "8ce298d8",
   "metadata": {},
   "source": [
    "<div class=\"alert alert-block alert-info\">\n",
    "\n",
    "# Grading Rubric\n",
    "    \n",
    "</div>"
   ]
  },
  {
   "cell_type": "markdown",
   "id": "faaaeefd",
   "metadata": {},
   "source": [
    "|Criterion\t|Excellent\t|Good\t|Average\t|Below Average\t|Poor\t|No Attempt|\n",
    "|:--\t|:--\t|:--\t|:--\t|:-- \t|:--\t|:-- |\n",
    "|**Part 1:** Activity-Question 1.1|\t**10 points**- Completes all aspects of the question correctly\t|**8 points**- Completes most aspects of the question correctly |**6 points**- Completes aspects of the question  correctly, and some incorrectly\t|**4 points**- Completes most aspects of the question  incorrectly or does not attempt many aspects|\t**2 points**- Minimal effort or completes a few aspects of the question or very few correctly|**0 points**- Did not complete the question|\n",
    "|**Part 1:** Activity-Question 1.2|\t**10 points**- Completes all aspects of the question correctly\t|**8 points**- Completes most aspects of the question correctly |**6 points**- Completes aspects of the question  correctly, and some incorrectly\t|**4 points**- Completes most aspects of the question  incorrectly or does not attempt many aspects|\t**2 points**- Minimal effort or completes a few aspects of the question or very few correctly|**0 points**- Did not complete the question|\n",
    "|**Part 1:** Activity-Question 1.3|\t**10 points**- Completes all aspects of the question correctly\t|**8 points**- Completes most aspects of the question correctly |**6 points**- Completes aspects of the question  correctly, and some incorrectly\t|**4 points**- Completes most aspects of the question  incorrectly or does not attempt many aspects|\t**2 points**- Minimal effort or completes a few aspects of the question or very few correctly|**0 points**- Did not complete the question|\n",
    "|**Part 1:** Activity-Question 1.4|\t**10 points**- Completes all aspects of the question correctly\t|**8 points**- Completes most aspects of the question correctly |**6 points**- Completes aspects of the question  correctly, and some incorrectly\t|**4 points**- Completes most aspects of the question  incorrectly or does not attempt many aspects|\t**2 points**- Minimal effort or completes a few aspects of the question or very few correctly|**0 points**- Did not complete the question|\n",
    "|**Part 1:** Activity-Question 1.5|\t**10 points**- Completes all aspects of the question correctly\t|**8 points**- Completes most aspects of the question correctly |**6 points**- Completes aspects of the question  correctly, and some incorrectly\t|**4 points**- Completes most aspects of the question  incorrectly or does not attempt many aspects|\t**2 points**- Minimal effort or completes a few aspects of the question or very few correctly|**0 points**- Did not complete the question|\n",
    "|**Part 1:** Activity-Question 1.6|\t**10 points**- Completes all aspects of the question correctly\t|**8 points**- Completes most aspects of the question correctly |**6 points**- Completes aspects of the question  correctly, and some incorrectly\t|**4 points**- Completes most aspects of the question  incorrectly or does not attempt many aspects|\t**2 points**- Minimal effort or completes a few aspects of the question or very few correctly|**0 points**- Did not complete the question|\n",
    "|**Part 1:** Activity-Question 1.7|\t**10 points**- Completes all aspects of the question correctly\t|**8 points**- Completes most aspects of the question correctly |**6 points**- Completes aspects of the question  correctly, and some incorrectly\t|**4 points**- Completes most aspects of the question  incorrectly or does not attempt many aspects|\t**2 points**- Minimal effort or completes a few aspects of the question or very few correctly|**0 points**- Did not complete the question|\n",
    "|**Part 1:** Activity-Question 1.8|\t**10 points**- Completes all aspects of the question correctly\t|**8 points**- Completes most aspects of the question correctly |**6 points**- Completes aspects of the question  correctly, and some incorrectly\t|**4 points**- Completes most aspects of the question  incorrectly or does not attempt many aspects|\t**2 points**- Minimal effort or completes a few aspects of the question or very few correctly|**0 points**- Did not complete the question|\n",
    "|**Part 1:** Activity-Question 2.1|\t**10 points**- Completes all aspects of the question correctly\t|**8 points**- Completes most aspects of the question correctly |**6 points**- Completes aspects of the question  correctly, and some incorrectly\t|**4 points**- Completes most aspects of the question  incorrectly or does not attempt many aspects|\t**2 points**- Minimal effort or completes a few aspects of the question or very few correctly|**0 points**- Did not complete the question|\n",
    "|**Part 1:** Activity-Question 2.2|\t**10 points**- Completes all aspects of the question correctly\t|**8 points**- Completes most aspects of the question correctly |**6 points**- Completes aspects of the question  correctly, and some incorrectly\t|**4 points**- Completes most aspects of the question  incorrectly or does not attempt many aspects|\t**2 points**- Minimal effort or completes a few aspects of the question or very few correctly|**0 points**- Did not complete the question|\n",
    "|**Part 1:** Activity-Question 2.3|\t**10 points**- Completes all aspects of the question correctly\t|**8 points**- Completes most aspects of the question correctly |**6 points**- Completes aspects of the question  correctly, and some incorrectly\t|**4 points**- Completes most aspects of the question  incorrectly or does not attempt many aspects|\t**2 points**- Minimal effort or completes a few aspects of the question or very few correctly|**0 points**- Did not complete the question|\n",
    "|**Part 1:** Activity-Question 2.4|\t**10 points**- Completes all aspects of the question correctly\t|**8 points**- Completes most aspects of the question correctly |**6 points**- Completes aspects of the question  correctly, and some incorrectly\t|**4 points**- Completes most aspects of the question  incorrectly or does not attempt many aspects|\t**2 points**- Minimal effort or completes a few aspects of the question or very few correctly|**0 points**- Did not complete the question|\n",
    "|**Part 1:** Activity-Question 2.5|\t**10 points**- Completes all aspects of the question correctly\t|**8 points**- Completes most aspects of the question correctly |**6 points**- Completes aspects of the question  correctly, and some incorrectly\t|**4 points**- Completes most aspects of the question  incorrectly or does not attempt many aspects|\t**2 points**- Minimal effort or completes a few aspects of the question or very few correctly|**0 points**- Did not complete the question|\n",
    "|**Part 1:** Activity-Question 2.6|\t**10 points**- Completes all aspects of the question correctly\t|**8 points**- Completes most aspects of the question correctly |**6 points**- Completes aspects of the question  correctly, and some incorrectly\t|**4 points**- Completes most aspects of the question  incorrectly or does not attempt many aspects|\t**2 points**- Minimal effort or completes a few aspects of the question or very few correctly|**0 points**- Did not complete the question|\n",
    "|**Part 1:** Activity-Question 2.7|\t**10 points**- Completes all aspects of the question correctly\t|**8 points**- Completes most aspects of the question correctly |**6 points**- Completes aspects of the question  correctly, and some incorrectly\t|**4 points**- Completes most aspects of the question  incorrectly or does not attempt many aspects|\t**2 points**- Minimal effort or completes a few aspects of the question or very few correctly|**0 points**- Did not complete the question|\n",
    "|**Part 1:** Activity-Question 2.8|\t**10 points**- Completes all aspects of the question correctly\t|**8 points**- Completes most aspects of the question correctly |**6 points**- Completes aspects of the question  correctly, and some incorrectly\t|**4 points**- Completes most aspects of the question  incorrectly or does not attempt many aspects|\t**2 points**- Minimal effort or completes a few aspects of the question or very few correctly|**0 points**- Did not complete the question|\n",
    "|**Part 2:** Reflection|**10 points**- Reflection clearly ties to the module content; experience and importance clearly laid out|**8 points**- Reflection mostly ties to the module content; experience & importance are discussed|**6 points**- Reflection ties minimally to the module content; experience & importance are discussed but not thoroughly|**4 points**- Reflection does not tie to the module content; experience & importance are minimally discussed|**2 points**- Minimal effort to tie to content; minimal effort to describe experience/ importance|**0 points**- Did not complete the reflection"
   ]
  },
  {
   "cell_type": "code",
   "execution_count": null,
   "id": "473862df",
   "metadata": {},
   "outputs": [],
   "source": []
  }
 ],
 "metadata": {
  "kernelspec": {
   "display_name": "Python 3",
   "language": "python",
   "name": "python3"
  },
  "language_info": {
   "codemirror_mode": {
    "name": "ipython",
    "version": 3
   },
   "file_extension": ".py",
   "mimetype": "text/x-python",
   "name": "python",
   "nbconvert_exporter": "python",
   "pygments_lexer": "ipython3",
   "version": "3.9.11"
  },
  "toc": {
   "base_numbering": 1,
   "nav_menu": {},
   "number_sections": false,
   "sideBar": true,
   "skip_h1_title": true,
   "title_cell": "Table of Contents",
   "title_sidebar": "Contents",
   "toc_cell": false,
   "toc_position": {
    "height": "calc(100% - 180px)",
    "left": "10px",
    "top": "150px",
    "width": "214.052px"
   },
   "toc_section_display": true,
   "toc_window_display": false
  }
 },
 "nbformat": 4,
 "nbformat_minor": 5
}
